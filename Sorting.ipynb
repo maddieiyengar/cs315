{
  "nbformat": 4,
  "nbformat_minor": 0,
  "metadata": {
    "colab": {
      "provenance": [],
      "authorship_tag": "ABX9TyOL2wWGJGhEiqjil4Swp8vh",
      "include_colab_link": true
    },
    "kernelspec": {
      "name": "python3",
      "display_name": "Python 3"
    },
    "language_info": {
      "name": "python"
    }
  },
  "cells": [
    {
      "cell_type": "markdown",
      "metadata": {
        "id": "view-in-github",
        "colab_type": "text"
      },
      "source": [
        "<a href=\"https://colab.research.google.com/github/maddieiyengar/cs315/blob/main/Sorting.ipynb\" target=\"_parent\"><img src=\"https://colab.research.google.com/assets/colab-badge.svg\" alt=\"Open In Colab\"/></a>"
      ]
    },
    {
      "cell_type": "code",
      "execution_count": 1,
      "metadata": {
        "id": "g3bm1JW5lkps"
      },
      "outputs": [],
      "source": [
        "import time\n",
        "import random"
      ]
    },
    {
      "cell_type": "code",
      "source": [
        "# Random Data\n",
        "print(\"BUILT-IN SORTING - RANDOM DATA\")\n",
        "print(\"=\"*50)\n",
        "sizes = [10000, 20000, 40000, 80000, 160000]\n",
        "\n",
        "print(\"\\nsorted() function:\")\n",
        "times = []\n",
        "for N in sizes:\n",
        "    A = list(range(N))\n",
        "    random.shuffle(A)\n",
        "    start = time.time()\n",
        "    B = sorted(A)\n",
        "    times.append(time.time() - start)\n",
        "    print(f\"N={N}: {times[-1]:.4f}s\")\n",
        "\n",
        "print(\"\\nRatios:\")\n",
        "for i in range(1, len(times)):\n",
        "    print(f\"{times[i]/times[i-1]:.2f}\")\n",
        "\n",
        "print(\"\\n\" + \"=\"*50)\n",
        "print(\"\\n.sort() method:\")\n",
        "times = []\n",
        "for N in sizes:\n",
        "    A = list(range(N))\n",
        "    random.shuffle(A)\n",
        "    start = time.time()\n",
        "    A.sort()\n",
        "    times.append(time.time() - start)\n",
        "    print(f\"N={N}: {times[-1]:.4f}s\")\n",
        "\n",
        "print(\"\\nRatios:\")\n",
        "for i in range(1, len(times)):\n",
        "    print(f\"{times[i]/times[i-1]:.2f}\")"
      ],
      "metadata": {
        "colab": {
          "base_uri": "https://localhost:8080/"
        },
        "id": "ukTKieKYmmyk",
        "outputId": "808b81f7-fb15-44c9-e8fd-87715fd5a6a9"
      },
      "execution_count": 2,
      "outputs": [
        {
          "output_type": "stream",
          "name": "stdout",
          "text": [
            "BUILT-IN SORTING - RANDOM DATA\n",
            "==================================================\n",
            "\n",
            "sorted() function:\n",
            "N=10000: 0.0040s\n",
            "N=20000: 0.0104s\n",
            "N=40000: 0.0131s\n",
            "N=80000: 0.0319s\n",
            "N=160000: 0.0927s\n",
            "\n",
            "Ratios:\n",
            "2.59\n",
            "1.26\n",
            "2.44\n",
            "2.90\n",
            "\n",
            "==================================================\n",
            "\n",
            ".sort() method:\n",
            "N=10000: 0.0024s\n",
            "N=20000: 0.0057s\n",
            "N=40000: 0.0150s\n",
            "N=80000: 0.0436s\n",
            "N=160000: 0.0850s\n",
            "\n",
            "Ratios:\n",
            "2.32\n",
            "2.65\n",
            "2.90\n",
            "1.95\n"
          ]
        }
      ]
    },
    {
      "cell_type": "code",
      "source": [
        "# Sorted Data\n",
        "print(\"BUILT-IN SORTING - SORTED DATA\")\n",
        "print(\"=\"*50)\n",
        "sizes = [10000, 20000, 40000, 80000, 160000]\n",
        "\n",
        "print(\"\\nsorted() function:\")\n",
        "times = []\n",
        "for N in sizes:\n",
        "    A = list(range(N))\n",
        "    start = time.time()\n",
        "    B = sorted(A)\n",
        "    times.append(time.time() - start)\n",
        "    print(f\"N={N}: {times[-1]:.4f}s\")\n",
        "\n",
        "print(\"\\nRatios:\")\n",
        "for i in range(1, len(times)):\n",
        "    print(f\"{times[i]/times[i-1]:.2f}\")\n",
        "\n",
        "print(\"\\n\" + \"=\"*50)\n",
        "print(\"\\n.sort() method:\")\n",
        "times = []\n",
        "for N in sizes:\n",
        "    A = list(range(N))\n",
        "    start = time.time()\n",
        "    A.sort()\n",
        "    times.append(time.time() - start)\n",
        "    print(f\"N={N}: {times[-1]:.4f}s\")\n",
        "\n",
        "print(\"\\nRatios:\")\n",
        "for i in range(1, len(times)):\n",
        "    print(f\"{times[i]/times[i-1]:.2f}\")"
      ],
      "metadata": {
        "colab": {
          "base_uri": "https://localhost:8080/"
        },
        "id": "JkvVA9psmvZ3",
        "outputId": "541a88fc-a552-497d-fecb-1cce1ade4df7"
      },
      "execution_count": 3,
      "outputs": [
        {
          "output_type": "stream",
          "name": "stdout",
          "text": [
            "BUILT-IN SORTING - SORTED DATA\n",
            "==================================================\n",
            "\n",
            "sorted() function:\n",
            "N=10000: 0.0025s\n",
            "N=20000: 0.0006s\n",
            "N=40000: 0.0011s\n",
            "N=80000: 0.0017s\n",
            "N=160000: 0.0033s\n",
            "\n",
            "Ratios:\n",
            "0.23\n",
            "1.85\n",
            "1.61\n",
            "1.97\n",
            "\n",
            "==================================================\n",
            "\n",
            ".sort() method:\n",
            "N=10000: 0.0001s\n",
            "N=20000: 0.0001s\n",
            "N=40000: 0.0003s\n",
            "N=80000: 0.0006s\n",
            "N=160000: 0.0012s\n",
            "\n",
            "Ratios:\n",
            "1.65\n",
            "2.65\n",
            "2.06\n",
            "2.19\n"
          ]
        }
      ]
    },
    {
      "cell_type": "code",
      "source": [
        "# ANALYSIS - PYTHON BUILT-IN SORTING FUNCTIONS:\n",
        "\n",
        "# Both sorted() and .sort() use Timsort, a hybrid stable sorting algorithm\n",
        "# derived from merge sort and insertion sort.\n",
        "\n",
        "# RANDOM DATA:\n",
        "# - Ratios: ~2.0-2.3 (consistent with O(n log n))\n",
        "# - When n doubles, time increases by n log n growth factor\n",
        "# - Both functions show similar performance\n",
        "\n",
        "# SORTED DATA:\n",
        "# - Ratios: ~1.7-2.2 (consistent with O(n))\n",
        "# - When n doubles, time exactly doubles\n",
        "# - Timsort detects already-sorted runs and exploits them\n",
        "\n",
        "# KEY DIFFERENCES:\n",
        "# - .sort() modifies list in-place\n",
        "# - sorted() creates and returns new list\n",
        "\n",
        "# ASYMPTOTIC COMPLEXITY:\n",
        "# - Worst/Average case: O(n log n)\n",
        "# - Best case (sorted data): O(n)\n",
        "# - Space: O(n)\n",
        "\n",
        "# CONCLUSION:\n",
        "# Python's built-in sorting is adaptive. Unlike basic Quicksort which degrades\n",
        "# to O(n²) on sorted data, Timsort actually performs BETTER on sorted input,\n",
        "# achieving O(n) instead of O(n log n). This adaptive behavior makes it superior\n",
        "# for real-world data that often contains partial ordering."
      ],
      "metadata": {
        "id": "1Dm72hCXm6bb"
      },
      "execution_count": 4,
      "outputs": []
    }
  ]
}
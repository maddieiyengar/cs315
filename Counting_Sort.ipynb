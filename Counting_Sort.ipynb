{
  "nbformat": 4,
  "nbformat_minor": 0,
  "metadata": {
    "colab": {
      "provenance": [],
      "authorship_tag": "ABX9TyO7ghzqkYMGOmNip+iih1TS",
      "include_colab_link": true
    },
    "kernelspec": {
      "name": "python3",
      "display_name": "Python 3"
    },
    "language_info": {
      "name": "python"
    }
  },
  "cells": [
    {
      "cell_type": "markdown",
      "metadata": {
        "id": "view-in-github",
        "colab_type": "text"
      },
      "source": [
        "<a href=\"https://colab.research.google.com/github/maddieiyengar/cs315/blob/main/Counting_Sort.ipynb\" target=\"_parent\"><img src=\"https://colab.research.google.com/assets/colab-badge.svg\" alt=\"Open In Colab\"/></a>"
      ]
    },
    {
      "cell_type": "code",
      "execution_count": 10,
      "metadata": {
        "colab": {
          "base_uri": "https://localhost:8080/"
        },
        "id": "8BE1V4rhjRID",
        "outputId": "84cea234-bef8-4076-84d5-77d632c605c3"
      },
      "outputs": [
        {
          "output_type": "stream",
          "name": "stdout",
          "text": [
            "CORRECTNESS TESTS:\n",
            "Array: [3, 7, 1, 9, 2, 8, 4, 6, 5]\n",
            "3rd smallest: 3 (expected: 3)\n",
            "5th smallest (median): 5 (expected: 5)\n",
            "9th smallest: 9 (expected: 9)\n",
            "\n",
            "PERFORMANCE ANALYSIS (averaged over 20 trials):\n",
            "n=  100: Random=   453, Sorted=   504, Reverse=   490, Ratio=4.53\n",
            "n=  500: Random=  2518, Sorted=  2376, Reverse=  2488, Ratio=5.04\n",
            "n= 1000: Random=  5192, Sorted=  5123, Reverse=  4787, Ratio=5.19\n",
            "n= 2000: Random= 10215, Sorted=  9398, Reverse=  9768, Ratio=5.11\n",
            "n= 5000: Random= 27686, Sorted= 28041, Reverse= 24800, Ratio=5.54\n"
          ]
        }
      ],
      "source": [
        "import random\n",
        "import numpy as np\n",
        "import matplotlib.pyplot as plt\n",
        "\n",
        "def quickselect(A, i):\n",
        "    \"\"\"Find ith order statistic (ith smallest element, 1-indexed)\"\"\"\n",
        "    if len(A) == 1:\n",
        "        return A[0]\n",
        "\n",
        "    pivot = random.choice(A)\n",
        "    lows = [x for x in A if x < pivot]\n",
        "    highs = [x for x in A if x > pivot]\n",
        "    pivots = [x for x in A if x == pivot]\n",
        "\n",
        "    if i <= len(lows):\n",
        "        return quickselect(lows, i)\n",
        "    elif i <= len(lows) + len(pivots):\n",
        "        return pivot\n",
        "    else:\n",
        "        return quickselect(highs, i - len(lows) - len(pivots))\n",
        "\n",
        "def quickselect_instrumented(A, i, stats):\n",
        "    \"\"\"Instrumented version that counts comparisons from Claude AI\"\"\"\n",
        "    if len(A) == 1:\n",
        "        return A[0]\n",
        "\n",
        "    pivot = random.choice(A)\n",
        "    lows, highs, pivots = [], [], []\n",
        "\n",
        "    for x in A:\n",
        "        stats['comparisons'] += 1\n",
        "        if x < pivot:\n",
        "            lows.append(x)\n",
        "        elif x > pivot:\n",
        "            stats['comparisons'] += 1\n",
        "            highs.append(x)\n",
        "        else:\n",
        "            pivots.append(x)\n",
        "\n",
        "    if i <= len(lows):\n",
        "        return quickselect_instrumented(lows, i, stats)\n",
        "    elif i <= len(lows) + len(pivots):\n",
        "        return pivot\n",
        "    else:\n",
        "        return quickselect_instrumented(highs, i - len(lows) - len(pivots), stats)\n",
        "\n",
        "# Correctness tests\n",
        "print(\"CORRECTNESS TESTS:\")\n",
        "test = [3, 7, 1, 9, 2, 8, 4, 6, 5]\n",
        "print(f\"Array: {test}\")\n",
        "print(f\"3rd smallest: {quickselect(test[:], 3)} (expected: 3)\")\n",
        "print(f\"5th smallest (median): {quickselect(test[:], 5)} (expected: 5)\")\n",
        "print(f\"9th smallest: {quickselect(test[:], 9)} (expected: 9)\")\n",
        "\n",
        "# Performance analysis on different data orderings\n",
        "print(\"\\nPERFORMANCE ANALYSIS (averaged over 20 trials):\")\n",
        "sizes = [100, 500, 1000, 2000, 5000]\n",
        "\n",
        "for n in sizes:\n",
        "    # Random data\n",
        "    random_comps = []\n",
        "    for _ in range(20):\n",
        "        data = [random.randint(1, 10000) for _ in range(n)]\n",
        "        stats = {'comparisons': 0}\n",
        "        quickselect_instrumented(data, n//2, stats)\n",
        "        random_comps.append(stats['comparisons'])\n",
        "\n",
        "    # Sorted data\n",
        "    sorted_comps = []\n",
        "    for _ in range(20):\n",
        "        data = list(range(n))\n",
        "        stats = {'comparisons': 0}\n",
        "        quickselect_instrumented(data, n//2, stats)\n",
        "        sorted_comps.append(stats['comparisons'])\n",
        "\n",
        "    # Reverse sorted data\n",
        "    reverse_comps = []\n",
        "    for _ in range(20):\n",
        "        data = list(range(n, 0, -1))\n",
        "        stats = {'comparisons': 0}\n",
        "        quickselect_instrumented(data, n//2, stats)\n",
        "        reverse_comps.append(stats['comparisons'])\n",
        "\n",
        "    avg_random = np.mean(random_comps)\n",
        "    avg_sorted = np.mean(sorted_comps)\n",
        "    avg_reverse = np.mean(reverse_comps)\n",
        "    ratio = avg_random / n\n",
        "\n",
        "    print(f\"n={n:5d}: Random={avg_random:6.0f}, Sorted={avg_sorted:6.0f}, \"\n",
        "          f\"Reverse={avg_reverse:6.0f}, Ratio={ratio:.2f}\")"
      ]
    }
  ]
}
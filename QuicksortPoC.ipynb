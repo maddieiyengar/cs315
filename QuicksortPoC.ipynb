{
  "nbformat": 4,
  "nbformat_minor": 0,
  "metadata": {
    "colab": {
      "provenance": [],
      "include_colab_link": true
    },
    "kernelspec": {
      "name": "python3",
      "display_name": "Python 3"
    },
    "language_info": {
      "name": "python"
    }
  },
  "cells": [
    {
      "cell_type": "markdown",
      "metadata": {
        "id": "view-in-github",
        "colab_type": "text"
      },
      "source": [
        "<a href=\"https://colab.research.google.com/github/maddieiyengar/cs315/blob/main/QuicksortPoC.ipynb\" target=\"_parent\"><img src=\"https://colab.research.google.com/assets/colab-badge.svg\" alt=\"Open In Colab\"/></a>"
      ]
    },
    {
      "cell_type": "code",
      "execution_count": null,
      "metadata": {
        "id": "t_LwP80OmwFK"
      },
      "outputs": [],
      "source": [
        "# Template for testing Quick-Sort on small lists, outputing each intermediate step"
      ]
    },
    {
      "cell_type": "code",
      "source": [
        "import random\n",
        "import time"
      ],
      "metadata": {
        "id": "LMcLd_etm-0Y"
      },
      "execution_count": null,
      "outputs": []
    },
    {
      "cell_type": "code",
      "source": [
        "# Partition provided as a convenience\n",
        "\n",
        "def Partition(A,p,r):\n",
        "    x = A[r]\n",
        "    i = p - 1\n",
        "    for j in range(p,r):\n",
        "        if ( A[j] <= x ):\n",
        "            i = i + 1\n",
        "            #swap A[i] <--> A[j]\n",
        "            temp=A[i]\n",
        "            A[i]=A[j]\n",
        "            A[j]=temp\n",
        "    #swap A[i+1] <--> A[r]\n",
        "    temp=A[i+1]\n",
        "    A[i+1]=A[r]\n",
        "    A[r]=temp\n",
        "\n",
        "    return i + 1"
      ],
      "metadata": {
        "id": "TyWIYm1_nIYR"
      },
      "execution_count": null,
      "outputs": []
    },
    {
      "cell_type": "code",
      "source": [
        "def Quicksort(A,p,r,print_flag):\n",
        "    if p < r:\n",
        "        q  = Partition(A , p , r)\n",
        "        if print_flag:\n",
        "            print(A)\n",
        "        Quicksort(A , p , q-1,print_flag)\n",
        "        Quicksort(A , q+1 , r,print_flag)"
      ],
      "metadata": {
        "id": "neX-YNcPnLpk"
      },
      "execution_count": null,
      "outputs": []
    },
    {
      "cell_type": "code",
      "source": [
        "N=8\n",
        "A = list(range(N))\n",
        "\n",
        "random.shuffle(A)\n",
        "\n",
        "print(A)\n",
        "Quicksort(A,0,N-1,True)\n",
        "print(A)"
      ],
      "metadata": {
        "colab": {
          "base_uri": "https://localhost:8080/"
        },
        "id": "RVXFjLS0nCeo",
        "outputId": "dcae918a-7924-4953-b884-31b30bf0f34b"
      },
      "execution_count": null,
      "outputs": [
        {
          "output_type": "stream",
          "name": "stdout",
          "text": [
            "[2, 5, 3, 0, 1, 6, 7, 4]\n",
            "[2, 3, 0, 1, 4, 6, 7, 5]\n",
            "[0, 1, 2, 3, 4, 6, 7, 5]\n",
            "[0, 1, 2, 3, 4, 6, 7, 5]\n",
            "[0, 1, 2, 3, 4, 5, 7, 6]\n",
            "[0, 1, 2, 3, 4, 5, 6, 7]\n",
            "[0, 1, 2, 3, 4, 5, 6, 7]\n"
          ]
        }
      ]
    },
    {
      "cell_type": "code",
      "source": [
        "# Random Data\n",
        "print(\"QUICKSORT - RANDOM DATA\")\n",
        "sizes = [1000, 2000, 4000, 8000, 16000]\n",
        "times = []\n",
        "\n",
        "for N in sizes:\n",
        "    A = list(range(N))\n",
        "    random.shuffle(A)\n",
        "    start = time.time()\n",
        "    Quicksort(A, 0, N-1, False)\n",
        "    times.append(time.time() - start)\n",
        "    print(f\"N={N}: {times[-1]:.4f}s\")\n",
        "\n",
        "print(\"\\nRatios (expect ~2.2 for O(n log n)):\")\n",
        "for i in range(1, len(times)):\n",
        "    print(f\"{times[i]/times[i-1]:.2f}\")"
      ],
      "metadata": {
        "colab": {
          "base_uri": "https://localhost:8080/"
        },
        "id": "0ICPqAfd1nZh",
        "outputId": "f23af80e-9f5e-48e6-86bc-2b2cbf42b006"
      },
      "execution_count": null,
      "outputs": [
        {
          "output_type": "stream",
          "name": "stdout",
          "text": [
            "QUICKSORT - RANDOM DATA\n",
            "N=1000: 0.0012s\n",
            "N=2000: 0.0029s\n",
            "N=4000: 0.0069s\n",
            "N=8000: 0.0147s\n",
            "N=16000: 0.0289s\n",
            "\n",
            "Ratios (expect ~2.2 for O(n log n)):\n",
            "2.45\n",
            "2.43\n",
            "2.12\n",
            "1.96\n"
          ]
        }
      ]
    },
    {
      "cell_type": "code",
      "source": [
        "# Sorted Data - maximum recursion depth exceeded\n",
        "print(\"QUICKSORT - SORTED DATA\")\n",
        "sizes = [1000, 2000, 4000, 8000]  # Smaller due to O(n²)\n",
        "times = []\n",
        "\n",
        "for N in sizes:\n",
        "    A = list(range(N))\n",
        "    start = time.time()\n",
        "    Quicksort(A, 0, N-1, False)\n",
        "    times.append(time.time() - start)\n",
        "    print(f\"N={N}: {times[-1]:.4f}s\")\n",
        "\n",
        "print(\"\\nRatios (expect ~4 for O(n²)):\")\n",
        "for i in range(1, len(times)):\n",
        "    print(f\"{times[i]/times[i-1]:.2f}\")"
      ],
      "metadata": {
        "colab": {
          "base_uri": "https://localhost:8080/",
          "height": 391
        },
        "id": "r8AMWIk81pie",
        "outputId": "183115d9-469f-4437-95bd-808ef4a4bbb8"
      },
      "execution_count": null,
      "outputs": [
        {
          "output_type": "stream",
          "name": "stdout",
          "text": [
            "QUICKSORT - SORTED DATA\n"
          ]
        },
        {
          "output_type": "error",
          "ename": "RecursionError",
          "evalue": "maximum recursion depth exceeded",
          "traceback": [
            "\u001b[0;31m---------------------------------------------------------------------------\u001b[0m",
            "\u001b[0;31mRecursionError\u001b[0m                            Traceback (most recent call last)",
            "\u001b[0;32m/tmp/ipython-input-2050115941.py\u001b[0m in \u001b[0;36m<cell line: 0>\u001b[0;34m()\u001b[0m\n\u001b[1;32m      7\u001b[0m     \u001b[0mA\u001b[0m \u001b[0;34m=\u001b[0m \u001b[0mlist\u001b[0m\u001b[0;34m(\u001b[0m\u001b[0mrange\u001b[0m\u001b[0;34m(\u001b[0m\u001b[0mN\u001b[0m\u001b[0;34m)\u001b[0m\u001b[0;34m)\u001b[0m\u001b[0;34m\u001b[0m\u001b[0;34m\u001b[0m\u001b[0m\n\u001b[1;32m      8\u001b[0m     \u001b[0mstart\u001b[0m \u001b[0;34m=\u001b[0m \u001b[0mtime\u001b[0m\u001b[0;34m.\u001b[0m\u001b[0mtime\u001b[0m\u001b[0;34m(\u001b[0m\u001b[0;34m)\u001b[0m\u001b[0;34m\u001b[0m\u001b[0;34m\u001b[0m\u001b[0m\n\u001b[0;32m----> 9\u001b[0;31m     \u001b[0mQuicksort\u001b[0m\u001b[0;34m(\u001b[0m\u001b[0mA\u001b[0m\u001b[0;34m,\u001b[0m \u001b[0;36m0\u001b[0m\u001b[0;34m,\u001b[0m \u001b[0mN\u001b[0m\u001b[0;34m-\u001b[0m\u001b[0;36m1\u001b[0m\u001b[0;34m,\u001b[0m \u001b[0;32mFalse\u001b[0m\u001b[0;34m)\u001b[0m\u001b[0;34m\u001b[0m\u001b[0;34m\u001b[0m\u001b[0m\n\u001b[0m\u001b[1;32m     10\u001b[0m     \u001b[0mtimes\u001b[0m\u001b[0;34m.\u001b[0m\u001b[0mappend\u001b[0m\u001b[0;34m(\u001b[0m\u001b[0mtime\u001b[0m\u001b[0;34m.\u001b[0m\u001b[0mtime\u001b[0m\u001b[0;34m(\u001b[0m\u001b[0;34m)\u001b[0m \u001b[0;34m-\u001b[0m \u001b[0mstart\u001b[0m\u001b[0;34m)\u001b[0m\u001b[0;34m\u001b[0m\u001b[0;34m\u001b[0m\u001b[0m\n\u001b[1;32m     11\u001b[0m     \u001b[0mprint\u001b[0m\u001b[0;34m(\u001b[0m\u001b[0;34mf\"N={N}: {times[-1]:.4f}s\"\u001b[0m\u001b[0;34m)\u001b[0m\u001b[0;34m\u001b[0m\u001b[0;34m\u001b[0m\u001b[0m\n",
            "\u001b[0;32m/tmp/ipython-input-2204652070.py\u001b[0m in \u001b[0;36mQuicksort\u001b[0;34m(A, p, r, print_flag)\u001b[0m\n\u001b[1;32m      4\u001b[0m         \u001b[0;32mif\u001b[0m \u001b[0mprint_flag\u001b[0m\u001b[0;34m:\u001b[0m\u001b[0;34m\u001b[0m\u001b[0;34m\u001b[0m\u001b[0m\n\u001b[1;32m      5\u001b[0m             \u001b[0mprint\u001b[0m\u001b[0;34m(\u001b[0m\u001b[0mA\u001b[0m\u001b[0;34m)\u001b[0m\u001b[0;34m\u001b[0m\u001b[0;34m\u001b[0m\u001b[0m\n\u001b[0;32m----> 6\u001b[0;31m         \u001b[0mQuicksort\u001b[0m\u001b[0;34m(\u001b[0m\u001b[0mA\u001b[0m \u001b[0;34m,\u001b[0m \u001b[0mp\u001b[0m \u001b[0;34m,\u001b[0m \u001b[0mq\u001b[0m\u001b[0;34m-\u001b[0m\u001b[0;36m1\u001b[0m\u001b[0;34m,\u001b[0m\u001b[0mprint_flag\u001b[0m\u001b[0;34m)\u001b[0m\u001b[0;34m\u001b[0m\u001b[0;34m\u001b[0m\u001b[0m\n\u001b[0m\u001b[1;32m      7\u001b[0m         \u001b[0mQuicksort\u001b[0m\u001b[0;34m(\u001b[0m\u001b[0mA\u001b[0m \u001b[0;34m,\u001b[0m \u001b[0mq\u001b[0m\u001b[0;34m+\u001b[0m\u001b[0;36m1\u001b[0m \u001b[0;34m,\u001b[0m \u001b[0mr\u001b[0m\u001b[0;34m,\u001b[0m\u001b[0mprint_flag\u001b[0m\u001b[0;34m)\u001b[0m\u001b[0;34m\u001b[0m\u001b[0;34m\u001b[0m\u001b[0m\n",
            "... last 1 frames repeated, from the frame below ...\n",
            "\u001b[0;32m/tmp/ipython-input-2204652070.py\u001b[0m in \u001b[0;36mQuicksort\u001b[0;34m(A, p, r, print_flag)\u001b[0m\n\u001b[1;32m      4\u001b[0m         \u001b[0;32mif\u001b[0m \u001b[0mprint_flag\u001b[0m\u001b[0;34m:\u001b[0m\u001b[0;34m\u001b[0m\u001b[0;34m\u001b[0m\u001b[0m\n\u001b[1;32m      5\u001b[0m             \u001b[0mprint\u001b[0m\u001b[0;34m(\u001b[0m\u001b[0mA\u001b[0m\u001b[0;34m)\u001b[0m\u001b[0;34m\u001b[0m\u001b[0;34m\u001b[0m\u001b[0m\n\u001b[0;32m----> 6\u001b[0;31m         \u001b[0mQuicksort\u001b[0m\u001b[0;34m(\u001b[0m\u001b[0mA\u001b[0m \u001b[0;34m,\u001b[0m \u001b[0mp\u001b[0m \u001b[0;34m,\u001b[0m \u001b[0mq\u001b[0m\u001b[0;34m-\u001b[0m\u001b[0;36m1\u001b[0m\u001b[0;34m,\u001b[0m\u001b[0mprint_flag\u001b[0m\u001b[0;34m)\u001b[0m\u001b[0;34m\u001b[0m\u001b[0;34m\u001b[0m\u001b[0m\n\u001b[0m\u001b[1;32m      7\u001b[0m         \u001b[0mQuicksort\u001b[0m\u001b[0;34m(\u001b[0m\u001b[0mA\u001b[0m \u001b[0;34m,\u001b[0m \u001b[0mq\u001b[0m\u001b[0;34m+\u001b[0m\u001b[0;36m1\u001b[0m \u001b[0;34m,\u001b[0m \u001b[0mr\u001b[0m\u001b[0;34m,\u001b[0m\u001b[0mprint_flag\u001b[0m\u001b[0;34m)\u001b[0m\u001b[0;34m\u001b[0m\u001b[0;34m\u001b[0m\u001b[0m\n",
            "\u001b[0;31mRecursionError\u001b[0m: maximum recursion depth exceeded"
          ]
        }
      ]
    },
    {
      "cell_type": "code",
      "source": [
        "\n",
        "# ANALYSIS - QUICKSORT:\n",
        "\n",
        "# RANDOM DATA:\n",
        "# - Ratios: ~2.0-2.5 (consistent with O(n log n))\n",
        "# - Good pivots create balanced partitions\n",
        "# - Average case achieves optimal sorting performance\n",
        "\n",
        "# SORTED DATA:\n",
        "# - RecursionError: maximum recursion depth exceeded\n",
        "# - Using last element as pivot on sorted data creates worst case\n",
        "# - Each partition produces (n-1, 0) split instead of (n/2, n/2)\n",
        "# - Would need O(n²) time if recursion limit allowed it\n",
        "\n",
        "# CONCLUSION:\n",
        "# Quicksort has input-dependent performance. Random data gives O(n log n)\n",
        "# average case with balanced partitions. Sorted data with last-element pivot\n",
        "# creates O(n²) worst case with unbalanced partitions, exceeding Python's\n",
        "# recursion limit around n=1000. This demonstrates why pivot selection\n",
        "# strategies (like median-of-three or randomized) are important in practice."
      ],
      "metadata": {
        "id": "P7cQqpEz5QdH"
      },
      "execution_count": 1,
      "outputs": []
    }
  ]
}
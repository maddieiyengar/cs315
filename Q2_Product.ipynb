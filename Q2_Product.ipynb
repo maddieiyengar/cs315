{
  "nbformat": 4,
  "nbformat_minor": 0,
  "metadata": {
    "colab": {
      "provenance": [],
      "authorship_tag": "ABX9TyN65CB5dh1pw300eb3/v3oW",
      "include_colab_link": true
    },
    "kernelspec": {
      "name": "python3",
      "display_name": "Python 3"
    },
    "language_info": {
      "name": "python"
    }
  },
  "cells": [
    {
      "cell_type": "markdown",
      "metadata": {
        "id": "view-in-github",
        "colab_type": "text"
      },
      "source": [
        "<a href=\"https://colab.research.google.com/github/maddieiyengar/cs315/blob/main/Q2_Product.ipynb\" target=\"_parent\"><img src=\"https://colab.research.google.com/assets/colab-badge.svg\" alt=\"Open In Colab\"/></a>"
      ]
    },
    {
      "cell_type": "code",
      "execution_count": null,
      "metadata": {
        "colab": {
          "base_uri": "https://localhost:8080/"
        },
        "id": "ChQUvqITIUZs",
        "outputId": "dc8f737c-31a9-429b-a7a6-aecf58621408"
      },
      "outputs": [
        {
          "output_type": "stream",
          "name": "stdout",
          "text": [
            "Enter first number: 8\n",
            "Enter second number: 9\n",
            "The product of 8 and 9 is: 72\n"
          ]
        }
      ],
      "source": [
        "def multiply_iterative(a, b):\n",
        "\n",
        "  result = 0\n",
        "  count = 0\n",
        "\n",
        "# For example, the numbers are 8 and 9. As long as the count (beginning value = 0)\n",
        "# does not exceed 9, 8 will be added to the result 9 times.\n",
        "# Thereby, resulting in the output = 72 (which is 8*9)\n",
        "\n",
        "  while count < b:\n",
        "    result += a\n",
        "    count += 1\n",
        "  return result\n",
        "\n",
        "num1 = int(input(\"Enter first number: \"))\n",
        "num2 = int(input(\"Enter second number: \"))\n",
        "product = multiply_iterative(num1, num2)\n",
        "print(f\"The product of {num1} and {num2} is: {product}\")"
      ]
    }
  ]
}
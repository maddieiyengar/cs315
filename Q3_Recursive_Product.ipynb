{
  "nbformat": 4,
  "nbformat_minor": 0,
  "metadata": {
    "colab": {
      "provenance": [],
      "authorship_tag": "ABX9TyNVyMROetZm8fWjeiTV9ktZ",
      "include_colab_link": true
    },
    "kernelspec": {
      "name": "python3",
      "display_name": "Python 3"
    },
    "language_info": {
      "name": "python"
    }
  },
  "cells": [
    {
      "cell_type": "markdown",
      "metadata": {
        "id": "view-in-github",
        "colab_type": "text"
      },
      "source": [
        "<a href=\"https://colab.research.google.com/github/maddieiyengar/cs315/blob/main/Q3_Recursive_Product.ipynb\" target=\"_parent\"><img src=\"https://colab.research.google.com/assets/colab-badge.svg\" alt=\"Open In Colab\"/></a>"
      ]
    },
    {
      "cell_type": "code",
      "execution_count": null,
      "metadata": {
        "colab": {
          "base_uri": "https://localhost:8080/"
        },
        "id": "bqbtSL84ZQwP",
        "outputId": "a46c2d31-39ca-46fc-b396-468ebba4f824"
      },
      "outputs": [
        {
          "output_type": "stream",
          "name": "stdout",
          "text": [
            "Enter first number: 78\n",
            "Enter second number: 990\n",
            "RecursionError: Maximum recursion depth exceeded!\n",
            "This happens with large inputs due to too many function calls.\n",
            "\n",
            "Test results:\n",
            "Small: 5 * 4 = 20\n",
            "Medium: 80 * 50 = 4000\n",
            "\n",
            "Trying large input (5 * 2000):\n",
            "Failed! RecursionError - too many recursive calls\n"
          ]
        }
      ],
      "source": [
        "def multiply_recursive(a, b):\n",
        "    if b == 0:\n",
        "        return 0\n",
        "\n",
        "   # For example, with numbers 5 and 4: we add 5 to the result of multiply_recursive(5, 3)\n",
        "   # This creates a chain: 5 + multiply_recursive(5, 3) + multiply_recursive(5, 2)\n",
        "   # + multiply_recursive(5, 1) + multiply_recursive(5, 0)\n",
        "   # Since multiply_recursive(5, 0) returns 0, we get: 5 + 5 + 5 + 5 + 0 = 20\n",
        "   # Thereby, resulting in the output = 20 (which is 5*4)\n",
        "\n",
        "    return a + multiply_recursive(a, b - 1)\n",
        "\n",
        "num1 = int(input(\"Enter first number: \"))\n",
        "num2 = int(input(\"Enter second number: \"))\n",
        "\n",
        "try:\n",
        "    product = multiply_recursive(num1, num2)\n",
        "    print(f\"The product of {num1} and {num2} is: {product}\")\n",
        "except RecursionError:\n",
        "\n",
        "   # This error occurs when the recursion depth limit is exceeded\n",
        "   # For example, multiply_recursive(5, 2000) would make 2000 recursive calls\n",
        "    print(\"RecursionError: Maximum recursion depth exceeded!\")\n",
        "    print(\"This happens with large inputs due to too many function calls.\")\n",
        "\n",
        "print(\"\\nTest results:\")\n",
        "print(f\"Small: 5 * 4 = {multiply_recursive(5, 4)}\")\n",
        "print(f\"Medium: 80 * 50 = {multiply_recursive(80, 50)}\")\n",
        "\n",
        "print(\"\\nTrying large input (5 * 2000):\")\n",
        "try:\n",
        "\n",
        "   # This will fail because it requires 2000 recursive calls\n",
        "   # Python's default recursion limit is around 1000\n",
        "    result = multiply_recursive(5, 2000)\n",
        "    print(f\"Result: {result}\")\n",
        "\n",
        "except RecursionError:\n",
        "    print(\"Failed! RecursionError - too many recursive calls\")"
      ]
    }
  ]
}
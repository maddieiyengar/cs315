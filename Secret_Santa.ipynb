{
  "nbformat": 4,
  "nbformat_minor": 0,
  "metadata": {
    "colab": {
      "provenance": [],
      "authorship_tag": "ABX9TyMnr5C+7Ktazq7tLY3aXZmZ",
      "include_colab_link": true
    },
    "kernelspec": {
      "name": "python3",
      "display_name": "Python 3"
    },
    "language_info": {
      "name": "python"
    }
  },
  "cells": [
    {
      "cell_type": "markdown",
      "metadata": {
        "id": "view-in-github",
        "colab_type": "text"
      },
      "source": [
        "<a href=\"https://colab.research.google.com/github/maddieiyengar/cs315/blob/main/Secret_Santa.ipynb\" target=\"_parent\"><img src=\"https://colab.research.google.com/assets/colab-badge.svg\" alt=\"Open In Colab\"/></a>"
      ]
    },
    {
      "cell_type": "code",
      "execution_count": null,
      "metadata": {
        "colab": {
          "base_uri": "https://localhost:8080/"
        },
        "id": "w6RPiicyQAoa",
        "outputId": "46dc88e4-eade-43db-a22e-552df0527566"
      },
      "outputs": [
        {
          "output_type": "stream",
          "name": "stdout",
          "text": [
            "Sample input.txt created\n",
            "16 are valid assignments.\n",
            "Results have been written to output.txt\n"
          ]
        }
      ],
      "source": [
        "from itertools import permutations\n",
        "\n",
        "def load_input(input_file):\n",
        "    with open(input_file, \"r\") as f:\n",
        "        lines = [line.strip() for line in f if line.strip()]\n",
        "\n",
        "   # Extract participants from first line: \"participants: A, B, C\" -> [\"A\", \"B\", \"C\"]\n",
        "    participants = [p.strip() for p in lines[0].split(\":\")[1].split(\",\")]\n",
        "\n",
        "# I did not understand how to establish the forbidden pair so I used claude.ai\n",
        "    forbidden = set()\n",
        "    if \"forbidden:\" in lines:\n",
        "        idx = lines.index(\"forbidden:\") + 1\n",
        "        for line in lines[idx:]:\n",
        "            giver, receiver = [x.strip() for x in line.split(\"->\")]\n",
        "            forbidden.add((giver, receiver))\n",
        "\n",
        "    return participants, forbidden\n",
        "\n",
        "def secret_santa(input_file, output_file):\n",
        "    participants, forbidden = load_input(input_file)\n",
        "    valid_combos = []\n",
        "\n",
        "   # Try all possible arrangements of who gives to whom\n",
        "   # For example: [A,B,C] -> [B,C,A] means A->B, B->C, C->A\n",
        "    for receivers in permutations(participants):\n",
        "        if all(g != r and (g, r) not in forbidden\n",
        "               for g, r in zip(participants, receivers)):\n",
        "            valid_combos.append(list(zip(participants, receivers)))\n",
        "\n",
        "   # Write all valid combinations to output file\n",
        "    with open(output_file, \"w\") as f:\n",
        "        for combo in valid_combos:\n",
        "            f.write(\", \".join(f\"{g}->{r}\" for g, r in combo) + \"\\n\")\n",
        "\n",
        "    print(f\"{len(valid_combos)} are valid assignments.\")\n",
        "    print(f\"Results have been written to {output_file}\")\n",
        "\n",
        "def create_sample_input():\n",
        "\n",
        "    # Create sample input with 5 people and 4 forbidden pairs\n",
        "    with open(\"input.txt\", \"w\") as f:\n",
        "        f.write(\"participants: Bhuvi, Maddie, Jahnavi, Erika, Jess\\n\")\n",
        "        f.write(\"forbidden:\\n\")\n",
        "        f.write(\"Bhuvi -> Jahnavi\\n\")\n",
        "        f.write(\"Maddie -> Erika\\n\")\n",
        "        f.write(\"Erika -> Jess\\n\")\n",
        "        f.write(\"Jess -> Bhuvi\\n\")\n",
        "    print(\"Sample input.txt created\")\n",
        "\n",
        "if __name__ == \"__main__\":\n",
        "    create_sample_input()\n",
        "    secret_santa(\"input.txt\", \"output.txt\")\n"
      ]
    }
  ]
}
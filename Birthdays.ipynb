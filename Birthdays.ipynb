{
  "nbformat": 4,
  "nbformat_minor": 0,
  "metadata": {
    "colab": {
      "provenance": [],
      "authorship_tag": "ABX9TyN+SZ88v9uECokgzsaAUHzd",
      "include_colab_link": true
    },
    "kernelspec": {
      "name": "python3",
      "display_name": "Python 3"
    },
    "language_info": {
      "name": "python"
    }
  },
  "cells": [
    {
      "cell_type": "markdown",
      "metadata": {
        "id": "view-in-github",
        "colab_type": "text"
      },
      "source": [
        "<a href=\"https://colab.research.google.com/github/maddieiyengar/cs315/blob/main/Birthdays.ipynb\" target=\"_parent\"><img src=\"https://colab.research.google.com/assets/colab-badge.svg\" alt=\"Open In Colab\"/></a>"
      ]
    },
    {
      "cell_type": "code",
      "execution_count": 12,
      "metadata": {
        "colab": {
          "base_uri": "https://localhost:8080/"
        },
        "id": "zG24NpkSXqni",
        "outputId": "b9dbe9ab-9b6e-4bf8-ea25-27a1751f8089"
      },
      "outputs": [
        {
          "output_type": "stream",
          "name": "stdout",
          "text": [
            "Enter the number of students: 12\n",
            "For 12 students, the probability of at least two sharing a birth month is: 0.9999\n"
          ]
        }
      ],
      "source": [
        "import math\n",
        "\n",
        "def calculate_probability(n):\n",
        "    if n > 12:\n",
        "        return 1.0\n",
        "\n",
        "    numerator = 12**n - math.prod(range(12, 12 - n, -1))\n",
        "    denominator = 12**n\n",
        "    probability = numerator / denominator\n",
        "    return probability\n",
        "\n",
        "try:\n",
        "    num_students = int(input(\"Enter the number of students: \"))\n",
        "    if num_students < 1:\n",
        "        print(\"Please enter a positive integer for the number of students.\")\n",
        "    else:\n",
        "        prob = calculate_probability(num_students)\n",
        "        print(f\"For {num_students} students, the probability of at least two sharing a birth month is: {prob:.4f}\")\n",
        "except ValueError:\n",
        "    print(\"Invalid input. Please enter an integer.\")"
      ]
    }
  ]
}
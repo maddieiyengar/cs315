{
  "nbformat": 4,
  "nbformat_minor": 0,
  "metadata": {
    "colab": {
      "provenance": [],
      "include_colab_link": true
    },
    "kernelspec": {
      "name": "python3",
      "display_name": "Python 3"
    },
    "language_info": {
      "name": "python"
    }
  },
  "cells": [
    {
      "cell_type": "markdown",
      "metadata": {
        "id": "view-in-github",
        "colab_type": "text"
      },
      "source": [
        "<a href=\"https://colab.research.google.com/github/maddieiyengar/cs315/blob/main/selectionPoC.ipynb\" target=\"_parent\"><img src=\"https://colab.research.google.com/assets/colab-badge.svg\" alt=\"Open In Colab\"/></a>"
      ]
    },
    {
      "cell_type": "code",
      "execution_count": null,
      "metadata": {
        "id": "tZGwopH4Y7oL"
      },
      "outputs": [],
      "source": [
        "# Template for testing Selection Sort on small lists, outputing each intermediate step"
      ]
    },
    {
      "cell_type": "code",
      "source": [
        "import random"
      ],
      "metadata": {
        "id": "fSME9MywceAq"
      },
      "execution_count": 1,
      "outputs": []
    },
    {
      "cell_type": "code",
      "source": [
        "def selection_sort(A, print_flag):\n",
        "    n = len(A)\n",
        "    for i in range(n - 1):\n",
        "        smallest = i\n",
        "        for j in range(i + 1, n):\n",
        "            if A[smallest] > A[j]:\n",
        "                smallest = j\n",
        "        # Swap A[i] with A[smallest]\n",
        "        A[i], A[smallest] = A[smallest], A[i]\n",
        "        if print_flag:\n",
        "            print(f\"Step {i+1}: {A}\")"
      ],
      "metadata": {
        "id": "TJZL4jFQZhAp"
      },
      "execution_count": 9,
      "outputs": []
    },
    {
      "cell_type": "code",
      "source": [
        "N=8\n",
        "A = list(range(N))\n",
        "\n",
        "random.shuffle(A)\n",
        "\n",
        "print(A)\n",
        "selection_sort(A,True)\n",
        "print(A)"
      ],
      "metadata": {
        "id": "f1GS3NjwZqmS",
        "colab": {
          "base_uri": "https://localhost:8080/"
        },
        "outputId": "92bfef13-dd6b-41f0-8587-c9175b1292e4"
      },
      "execution_count": 10,
      "outputs": [
        {
          "output_type": "stream",
          "name": "stdout",
          "text": [
            "[6, 4, 0, 1, 7, 3, 2, 5]\n",
            "Step 1: [0, 4, 6, 1, 7, 3, 2, 5]\n",
            "Step 2: [0, 1, 6, 4, 7, 3, 2, 5]\n",
            "Step 3: [0, 1, 2, 4, 7, 3, 6, 5]\n",
            "Step 4: [0, 1, 2, 3, 7, 4, 6, 5]\n",
            "Step 5: [0, 1, 2, 3, 4, 7, 6, 5]\n",
            "Step 6: [0, 1, 2, 3, 4, 5, 6, 7]\n",
            "Step 7: [0, 1, 2, 3, 4, 5, 6, 7]\n",
            "[0, 1, 2, 3, 4, 5, 6, 7]\n"
          ]
        }
      ]
    }
  ]
}
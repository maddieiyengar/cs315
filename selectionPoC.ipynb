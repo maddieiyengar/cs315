{
  "nbformat": 4,
  "nbformat_minor": 0,
  "metadata": {
    "colab": {
      "provenance": [],
      "include_colab_link": true
    },
    "kernelspec": {
      "name": "python3",
      "display_name": "Python 3"
    },
    "language_info": {
      "name": "python"
    }
  },
  "cells": [
    {
      "cell_type": "markdown",
      "metadata": {
        "id": "view-in-github",
        "colab_type": "text"
      },
      "source": [
        "<a href=\"https://colab.research.google.com/github/maddieiyengar/cs315/blob/main/selectionPoC.ipynb\" target=\"_parent\"><img src=\"https://colab.research.google.com/assets/colab-badge.svg\" alt=\"Open In Colab\"/></a>"
      ]
    },
    {
      "cell_type": "code",
      "execution_count": null,
      "metadata": {
        "id": "tZGwopH4Y7oL"
      },
      "outputs": [],
      "source": [
        "# Template for testing Selection Sort on small lists, outputing each intermediate step"
      ]
    },
    {
      "cell_type": "code",
      "source": [
        "import random\n",
        "import time"
      ],
      "metadata": {
        "id": "fSME9MywceAq"
      },
      "execution_count": null,
      "outputs": []
    },
    {
      "cell_type": "code",
      "source": [
        "def selection_sort(A, print_flag):\n",
        "    n = len(A)\n",
        "    for i in range(n - 1):\n",
        "        smallest = i\n",
        "        for j in range(i + 1, n):\n",
        "            if A[smallest] > A[j]:\n",
        "                smallest = j\n",
        "        # Swap A[i] with A[smallest]\n",
        "        A[i], A[smallest] = A[smallest], A[i]\n",
        "        if print_flag:\n",
        "            print(f\"Step {i+1}: {A}\")"
      ],
      "metadata": {
        "id": "TJZL4jFQZhAp"
      },
      "execution_count": null,
      "outputs": []
    },
    {
      "cell_type": "code",
      "source": [
        "N=8\n",
        "A = list(range(N))\n",
        "\n",
        "random.shuffle(A)\n",
        "\n",
        "print(A)\n",
        "selection_sort(A,True)\n",
        "print(A)"
      ],
      "metadata": {
        "id": "f1GS3NjwZqmS",
        "colab": {
          "base_uri": "https://localhost:8080/"
        },
        "outputId": "01dbe5a0-dd48-4aee-c4ee-f153d35f0f63"
      },
      "execution_count": null,
      "outputs": [
        {
          "output_type": "stream",
          "name": "stdout",
          "text": [
            "[7, 5, 2, 3, 1, 6, 4, 0]\n",
            "Step 1: [0, 5, 2, 3, 1, 6, 4, 7]\n",
            "Step 2: [0, 1, 2, 3, 5, 6, 4, 7]\n",
            "Step 3: [0, 1, 2, 3, 5, 6, 4, 7]\n",
            "Step 4: [0, 1, 2, 3, 5, 6, 4, 7]\n",
            "Step 5: [0, 1, 2, 3, 4, 6, 5, 7]\n",
            "Step 6: [0, 1, 2, 3, 4, 5, 6, 7]\n",
            "Step 7: [0, 1, 2, 3, 4, 5, 6, 7]\n",
            "[0, 1, 2, 3, 4, 5, 6, 7]\n"
          ]
        }
      ]
    },
    {
      "cell_type": "code",
      "source": [
        "# Random Data\n",
        "print(\"SELECTION SORT - RANDOM DATA\")\n",
        "sizes = [1000, 2000, 4000, 8000]\n",
        "times = []\n",
        "\n",
        "for N in sizes:\n",
        "    A = list(range(N))\n",
        "    random.shuffle(A)\n",
        "    start = time.time()\n",
        "    selection_sort(A, False)\n",
        "    times.append(time.time() - start)\n",
        "    print(f\"N={N}: {times[-1]:.4f}s\")\n",
        "\n",
        "print(\"\\nRatios (expect ~4 for O(n²)):\")\n",
        "for i in range(1, len(times)):\n",
        "    print(f\"{times[i]/times[i-1]:.2f}\")"
      ],
      "metadata": {
        "colab": {
          "base_uri": "https://localhost:8080/"
        },
        "id": "OW1EV7xupY5n",
        "outputId": "de6d2f21-48c5-4d23-d105-df45a7ab7305"
      },
      "execution_count": null,
      "outputs": [
        {
          "output_type": "stream",
          "name": "stdout",
          "text": [
            "SELECTION SORT - RANDOM DATA\n",
            "N=1000: 0.0271s\n",
            "N=2000: 0.0990s\n",
            "N=4000: 0.4018s\n",
            "N=8000: 1.6200s\n",
            "\n",
            "Ratios (expect ~4 for O(n²)):\n",
            "3.66\n",
            "4.06\n",
            "4.03\n"
          ]
        }
      ]
    },
    {
      "cell_type": "code",
      "source": [
        "# Sorted Data\n",
        "print(\"SELECTION SORT - SORTED DATA\")\n",
        "sizes = [1000, 2000, 4000, 8000]\n",
        "times = []\n",
        "\n",
        "for N in sizes:\n",
        "    A = list(range(N))\n",
        "    start = time.time()\n",
        "    selection_sort(A, False)\n",
        "    times.append(time.time() - start)\n",
        "    print(f\"N={N}: {times[-1]:.4f}s\")\n",
        "\n",
        "print(\"\\nRatios (expect ~4 for O(n²)):\")\n",
        "for i in range(1, len(times)):\n",
        "    print(f\"{times[i]/times[i-1]:.2f}\")"
      ],
      "metadata": {
        "id": "WMpFQ5glpv10",
        "outputId": "f4c1e593-2b78-426f-ab9d-6fd199ca3ec1",
        "colab": {
          "base_uri": "https://localhost:8080/"
        }
      },
      "execution_count": null,
      "outputs": [
        {
          "output_type": "stream",
          "name": "stdout",
          "text": [
            "SELECTION SORT - SORTED DATA\n",
            "N=1000: 0.0269s\n",
            "N=2000: 0.0981s\n",
            "N=4000: 0.3979s\n",
            "N=8000: 1.6348s\n",
            "\n",
            "Ratios (expect ~4 for O(n²)):\n",
            "3.65\n",
            "4.06\n",
            "4.11\n"
          ]
        }
      ]
    },
    {
      "cell_type": "code",
      "source": [
        "\"\"\"\n",
        "ANALYSIS - SELECTION SORT:\n",
        "\n",
        "RANDOM DATA:\n",
        "- Ratios: ~3.7-4.0 (consistent with O(n²))\n",
        "- When n doubles, time increases by factor of 4\n",
        "\n",
        "SORTED DATA:\n",
        "- Ratios: ~3.7-4.1 (consistent with O(n²))\n",
        "- Same performance as random data\n",
        "\n",
        "CONCLUSION:\n",
        "Selection sort always performs Θ(n²) comparisons regardless of input order.\n",
        "The algorithm always scans the unsorted portion to find the minimum, even\n",
        "if the data is already sorted. Both random and sorted data confirm O(n²)\n",
        "complexity with ratios approaching 4.\n",
        "\"\"\""
      ],
      "metadata": {
        "colab": {
          "base_uri": "https://localhost:8080/",
          "height": 70
        },
        "id": "0xPXt0tU4l0Z",
        "outputId": "235942a9-db5b-43e5-d043-eacdc77abab6"
      },
      "execution_count": null,
      "outputs": [
        {
          "output_type": "execute_result",
          "data": {
            "text/plain": [
              "'\\nANALYSIS - SELECTION SORT:\\n\\nRANDOM DATA:\\n- Ratios: ~3.7-4.0 (consistent with O(n²))\\n- When n doubles, time increases by factor of 4\\n\\nSORTED DATA:\\n- Ratios: ~3.7-4.1 (consistent with O(n²))\\n- Same performance as random data\\n\\nCONCLUSION:\\nSelection sort always performs Θ(n²) comparisons regardless of input order.\\nThe algorithm always scans the unsorted portion to find the minimum, even\\nif the data is already sorted. Both random and sorted data confirm O(n²)\\ncomplexity with ratios approaching 4.\\n'"
            ],
            "application/vnd.google.colaboratory.intrinsic+json": {
              "type": "string"
            }
          },
          "metadata": {},
          "execution_count": 8
        }
      ]
    }
  ]
}
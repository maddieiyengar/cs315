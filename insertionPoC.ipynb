{
  "nbformat": 4,
  "nbformat_minor": 0,
  "metadata": {
    "colab": {
      "provenance": [],
      "include_colab_link": true
    },
    "kernelspec": {
      "name": "python3",
      "display_name": "Python 3"
    },
    "language_info": {
      "name": "python"
    }
  },
  "cells": [
    {
      "cell_type": "markdown",
      "metadata": {
        "id": "view-in-github",
        "colab_type": "text"
      },
      "source": [
        "<a href=\"https://colab.research.google.com/github/maddieiyengar/cs315/blob/main/insertionPoC.ipynb\" target=\"_parent\"><img src=\"https://colab.research.google.com/assets/colab-badge.svg\" alt=\"Open In Colab\"/></a>"
      ]
    },
    {
      "cell_type": "code",
      "execution_count": null,
      "metadata": {
        "id": "tZGwopH4Y7oL"
      },
      "outputs": [],
      "source": [
        "# Template for testing Insertion-Sort on small lists, outputing each intermediate step"
      ]
    },
    {
      "cell_type": "code",
      "source": [
        "import random\n",
        "import time"
      ],
      "metadata": {
        "id": "fSME9MywceAq"
      },
      "execution_count": null,
      "outputs": []
    },
    {
      "cell_type": "code",
      "source": [
        "def insertion(A,print_flag):\n",
        "\n",
        "  # For your convenience, here is the psuedocode from the textbook for Insertion-Sort\n",
        "  # You can adapt it for this problem, there aren't many changes required\n",
        "  # Note that N is defined in a different execution group and doesn't need to be a parameter\n",
        "  # Also, it is nice to have a boolean flag controlling whether the intermediate result is printed\n",
        "  # The psuedocode is written to be \"in-place,\" so the input list changes\n",
        "\n",
        "  # Insertion-Sort(A,n)\n",
        "  # for i=2 to n:\n",
        "  #    key = A[i]\n",
        "  # insert A[i] into sorted seq A[1]..A[i-1]\n",
        "  #    j = i-1\n",
        "  #    while j>0 and A[j]>key:\n",
        "  #       A[j+1] = A[j]\n",
        "  #       j = j-1\n",
        "  #    A[j+1] = key\n",
        "\n",
        "  # Note: Python lists are 0-indexed, so we adjust the loop and indices accordingly.\n",
        "  # The pseudocode uses 1-based indexing.\n",
        "\n",
        "  n = len(A)\n",
        "  for i in range(1, n): # Corresponds to i=2 to n in pseudocode (adjusted for 0-indexing)\n",
        "    key = A[i]\n",
        "    # insert A[i] into sorted seq A[0]..A[i-1]\n",
        "    j = i - 1\n",
        "    while j >= 0 and A[j] > key: # Corresponds to j>0 in pseudocode (adjusted for 0-indexing)\n",
        "      A[j+1] = A[j]\n",
        "      j = j - 1\n",
        "    A[j+1] = key\n",
        "\n",
        "    if print_flag:\n",
        "      print(A)"
      ],
      "metadata": {
        "id": "TJZL4jFQZhAp"
      },
      "execution_count": null,
      "outputs": []
    },
    {
      "cell_type": "code",
      "source": [
        "N=8\n",
        "A = list(range(N))\n",
        "\n",
        "random.shuffle(A)\n",
        "\n",
        "print(A)\n",
        "insertion(A,True)\n",
        "print(A)"
      ],
      "metadata": {
        "colab": {
          "base_uri": "https://localhost:8080/"
        },
        "id": "f1GS3NjwZqmS",
        "outputId": "39664197-1b16-4847-9a3d-afd9e026efae"
      },
      "execution_count": null,
      "outputs": [
        {
          "output_type": "stream",
          "name": "stdout",
          "text": [
            "[4, 5, 1, 6, 2, 3, 7, 0]\n",
            "[4, 5, 1, 6, 2, 3, 7, 0]\n",
            "[1, 4, 5, 6, 2, 3, 7, 0]\n",
            "[1, 4, 5, 6, 2, 3, 7, 0]\n",
            "[1, 2, 4, 5, 6, 3, 7, 0]\n",
            "[1, 2, 3, 4, 5, 6, 7, 0]\n",
            "[1, 2, 3, 4, 5, 6, 7, 0]\n",
            "[0, 1, 2, 3, 4, 5, 6, 7]\n",
            "[0, 1, 2, 3, 4, 5, 6, 7]\n"
          ]
        }
      ]
    },
    {
      "cell_type": "code",
      "source": [
        "# Random Data\n",
        "print(\"INSERTION SORT - RANDOM DATA\")\n",
        "sizes = [1000, 2000, 4000, 8000]\n",
        "times = []\n",
        "\n",
        "for N in sizes:\n",
        "    A = list(range(N))\n",
        "    random.shuffle(A)\n",
        "    start = time.time()\n",
        "    insertion(A, False)\n",
        "    times.append(time.time() - start)\n",
        "    print(f\"N={N}: {times[-1]:.4f}s\")\n",
        "\n",
        "print(\"\\nRatios (expect ~4 for O(n²)):\")\n",
        "for i in range(1, len(times)):\n",
        "    print(f\"{times[i]/times[i-1]:.2f}\")"
      ],
      "metadata": {
        "colab": {
          "base_uri": "https://localhost:8080/"
        },
        "id": "xo6lMRUpr-d0",
        "outputId": "1b759af5-dc6e-4ab9-ad41-f8e5f6469a9c"
      },
      "execution_count": null,
      "outputs": [
        {
          "output_type": "stream",
          "name": "stdout",
          "text": [
            "INSERTION SORT - RANDOM DATA\n",
            "N=1000: 0.0216s\n",
            "N=2000: 0.0954s\n",
            "N=4000: 0.3881s\n",
            "N=8000: 2.4329s\n",
            "\n",
            "Ratios (expect ~4 for O(n²)):\n",
            "4.42\n",
            "4.07\n",
            "6.27\n"
          ]
        }
      ]
    },
    {
      "cell_type": "code",
      "source": [
        "# Sorted Data\n",
        "print(\"INSERTION SORT - SORTED DATA\")\n",
        "sizes = [1000, 2000, 4000, 8000]\n",
        "times = []\n",
        "\n",
        "for N in sizes:\n",
        "    A = list(range(N))\n",
        "    start = time.time()\n",
        "    insertion(A, False)\n",
        "    times.append(time.time() - start)\n",
        "    print(f\"N={N}: {times[-1]:.4f}s\")\n",
        "\n",
        "print(\"\\nRatios (expect ~2 for O(n)):\")\n",
        "for i in range(1, len(times)):\n",
        "    print(f\"{times[i]/times[i-1]:.2f}\")"
      ],
      "metadata": {
        "colab": {
          "base_uri": "https://localhost:8080/"
        },
        "id": "2QOmkhFbsVV4",
        "outputId": "4d28ce76-bd00-4983-f0c2-541e9d36e222"
      },
      "execution_count": null,
      "outputs": [
        {
          "output_type": "stream",
          "name": "stdout",
          "text": [
            "INSERTION SORT - SORTED DATA\n",
            "N=1000: 0.0001s\n",
            "N=2000: 0.0002s\n",
            "N=4000: 0.0005s\n",
            "N=8000: 0.0009s\n",
            "\n",
            "Ratios (expect ~2 for O(n)):\n",
            "1.93\n",
            "2.10\n",
            "1.94\n"
          ]
        }
      ]
    },
    {
      "cell_type": "code",
      "source": [
        "# ANALYSIS - INSERTION SORT:\n",
        "\n",
        "# RANDOM DATA:\n",
        "# - Ratios: ~4.0-6.3 (consistent with O(n²))\n",
        "# - When n doubles, time increases by factor of 4\n",
        "# - Average case requires moving elements frequently\n",
        "\n",
        "# SORTED DATA:\n",
        "# - Ratios: ~1.9-2.1 (consistent with O(n))\n",
        "# - When n doubles, time exactly doubles\n",
        "# - Best case: only outer loop runs, no shifts needed\n",
        "\n",
        "# CONCLUSION:\n",
        "# Insertion sort has input-dependent performance. On random data it exhibits\n",
        "# O(n²) behavior, but on sorted data it achieves O(n) because the inner while\n",
        "# loop never executes. This makes it efficient for nearly-sorted data."
      ],
      "metadata": {
        "id": "jepExrip4_yI"
      },
      "execution_count": null,
      "outputs": []
    }
  ]
}
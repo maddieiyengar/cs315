{
  "nbformat": 4,
  "nbformat_minor": 0,
  "metadata": {
    "colab": {
      "provenance": [],
      "include_colab_link": true
    },
    "kernelspec": {
      "name": "python3",
      "display_name": "Python 3"
    },
    "language_info": {
      "name": "python"
    }
  },
  "cells": [
    {
      "cell_type": "markdown",
      "metadata": {
        "id": "view-in-github",
        "colab_type": "text"
      },
      "source": [
        "<a href=\"https://colab.research.google.com/github/maddieiyengar/cs315/blob/main/MergesortPoC.ipynb\" target=\"_parent\"><img src=\"https://colab.research.google.com/assets/colab-badge.svg\" alt=\"Open In Colab\"/></a>"
      ]
    },
    {
      "cell_type": "code",
      "execution_count": null,
      "metadata": {
        "id": "t_LwP80OmwFK"
      },
      "outputs": [],
      "source": [
        "# Template for testing Insertion-Sort on small lists, outputing each intermediate step"
      ]
    },
    {
      "cell_type": "code",
      "source": [
        "import random\n",
        "import time"
      ],
      "metadata": {
        "id": "LMcLd_etm-0Y"
      },
      "execution_count": null,
      "outputs": []
    },
    {
      "cell_type": "code",
      "source": [
        "# Merge provided as a convenience\n",
        "\n",
        "def Merge(A,p,q,r):\n",
        "    nL = q-p+1\n",
        "    nR = r-q\n",
        "    Left = []\n",
        "    Right = []\n",
        "\n",
        "    for i in range(nL):\n",
        "        Left.append(A[p+i])\n",
        "    for j in range(nR):\n",
        "        Right.append(A[q+j+1])\n",
        "\n",
        "    i=0\n",
        "    j=0\n",
        "    k=p\n",
        "    while i<nL and j<nR:\n",
        "        if (Left[i]<=Right[j]):\n",
        "            A[k]=Left[i]\n",
        "            i+=1\n",
        "        else:\n",
        "            A[k]=Right[j]\n",
        "            j+=1\n",
        "        k+=1\n",
        "\n",
        "    while i< nL:\n",
        "        A[k]=Left[i]\n",
        "        i+=1\n",
        "        k+=1\n",
        "    while j< nR:\n",
        "        A[k]=Right[j]\n",
        "        j+=1\n",
        "        k+=1\n",
        "\n",
        "    return"
      ],
      "metadata": {
        "id": "TyWIYm1_nIYR"
      },
      "execution_count": null,
      "outputs": []
    },
    {
      "cell_type": "code",
      "source": [
        "def Mergesort(A,p,r,print_flag):\n",
        "    if p >= r:\n",
        "        return\n",
        "    q = (p+r)//2\n",
        "\n",
        "    # Modify the following three calls:\n",
        "    Mergesort(A, p, q, print_flag)\n",
        "    Mergesort(A, q+1, r, print_flag)\n",
        "    Merge(A, p, q, r)\n",
        "\n",
        "    if print_flag:\n",
        "      print(A)\n",
        "    return"
      ],
      "metadata": {
        "id": "neX-YNcPnLpk"
      },
      "execution_count": null,
      "outputs": []
    },
    {
      "cell_type": "code",
      "source": [
        "N=8\n",
        "A = list(range(N))\n",
        "\n",
        "random.shuffle(A)\n",
        "\n",
        "print(A)\n",
        "Mergesort(A,0,N-1,True)\n",
        "print(A)"
      ],
      "metadata": {
        "colab": {
          "base_uri": "https://localhost:8080/"
        },
        "id": "RVXFjLS0nCeo",
        "outputId": "f4c6352f-51fd-4763-aed5-b80dd904c156"
      },
      "execution_count": null,
      "outputs": [
        {
          "output_type": "stream",
          "name": "stdout",
          "text": [
            "[2, 7, 1, 5, 4, 6, 0, 3]\n",
            "[2, 7, 1, 5, 4, 6, 0, 3]\n",
            "[2, 7, 1, 5, 4, 6, 0, 3]\n",
            "[1, 2, 5, 7, 4, 6, 0, 3]\n",
            "[1, 2, 5, 7, 4, 6, 0, 3]\n",
            "[1, 2, 5, 7, 4, 6, 0, 3]\n",
            "[1, 2, 5, 7, 0, 3, 4, 6]\n",
            "[0, 1, 2, 3, 4, 5, 6, 7]\n",
            "[0, 1, 2, 3, 4, 5, 6, 7]\n"
          ]
        }
      ]
    },
    {
      "cell_type": "code",
      "source": [
        "# Random Data\n",
        "print(\"MERGE SORT - RANDOM DATA\")\n",
        "sizes = [1000, 2000, 4000, 8000, 16000]\n",
        "times = []\n",
        "\n",
        "for N in sizes:\n",
        "    A = list(range(N))\n",
        "    random.shuffle(A)\n",
        "    start = time.time()\n",
        "    Mergesort(A, 0, N-1, False)\n",
        "    times.append(time.time() - start)\n",
        "    print(f\"N={N}: {times[-1]:.4f}s\")\n",
        "\n",
        "print(\"\\nRatios (expect ~2.2 for O(n log n)):\")\n",
        "for i in range(1, len(times)):\n",
        "    print(f\"{times[i]/times[i-1]:.2f}\")"
      ],
      "metadata": {
        "colab": {
          "base_uri": "https://localhost:8080/"
        },
        "id": "gwDaHAbJ21ba",
        "outputId": "292f351c-07cb-4617-f188-2565fabdfc8d"
      },
      "execution_count": null,
      "outputs": [
        {
          "output_type": "stream",
          "name": "stdout",
          "text": [
            "MERGE SORT - RANDOM DATA\n",
            "N=1000: 0.0018s\n",
            "N=2000: 0.0034s\n",
            "N=4000: 0.0076s\n",
            "N=8000: 0.0218s\n",
            "N=16000: 0.0370s\n",
            "\n",
            "Ratios (expect ~2.2 for O(n log n)):\n",
            "1.85\n",
            "2.24\n",
            "2.87\n",
            "1.70\n"
          ]
        }
      ]
    },
    {
      "cell_type": "code",
      "source": [
        "# Sorted Data\n",
        "print(\"MERGE SORT - SORTED DATA\")\n",
        "sizes = [1000, 2000, 4000, 8000, 16000]\n",
        "times = []\n",
        "\n",
        "for N in sizes:\n",
        "    A = list(range(N))\n",
        "    start = time.time()\n",
        "    Mergesort(A, 0, N-1, False)\n",
        "    times.append(time.time() - start)\n",
        "    print(f\"N={N}: {times[-1]:.4f}s\")\n",
        "\n",
        "print(\"\\nRatios (expect ~2.2 for O(n log n)):\")\n",
        "for i in range(1, len(times)):\n",
        "    print(f\"{times[i]/times[i-1]:.2f}\")"
      ],
      "metadata": {
        "colab": {
          "base_uri": "https://localhost:8080/"
        },
        "id": "QKFvmLiG24ky",
        "outputId": "ee0d5e9a-f873-4fa8-dbc1-169214831ded"
      },
      "execution_count": null,
      "outputs": [
        {
          "output_type": "stream",
          "name": "stdout",
          "text": [
            "MERGE SORT - SORTED DATA\n",
            "N=1000: 0.0033s\n",
            "N=2000: 0.0055s\n",
            "N=4000: 0.0109s\n",
            "N=8000: 0.0229s\n",
            "N=16000: 0.0499s\n",
            "\n",
            "Ratios (expect ~2.2 for O(n log n)):\n",
            "1.64\n",
            "1.99\n",
            "2.10\n",
            "2.18\n"
          ]
        }
      ]
    },
    {
      "cell_type": "code",
      "source": [
        "# ANALYSIS - MERGE SORT:\n",
        "\n",
        "# RANDOM DATA:\n",
        "# - Ratios: ~1.9-2.9 (consistent with O(n log n))\n",
        "# - Theoretical ratio for doubling n in n log n ≈ 2.2\n",
        "# - Some variation due to overhead and timing precision\n",
        "\n",
        "# SORTED DATA:\n",
        "# - Ratios: ~1.6-2.2 (consistent with O(n log n))\n",
        "# - Same complexity as random data\n",
        "# - No performance improvement on sorted input\n",
        "\n",
        "# CONCLUSION:\n",
        "# Merge sort always performs Θ(n log n) operations regardless of input order.\n",
        "# The divide-and-conquer approach always splits the array in half (log n levels)\n",
        "# and merges n elements at each level. Unlike insertion sort, it does not\n",
        "# adapt to already-sorted data."
      ],
      "metadata": {
        "id": "aQ1rVtzO5_uI"
      },
      "execution_count": null,
      "outputs": []
    }
  ]
}